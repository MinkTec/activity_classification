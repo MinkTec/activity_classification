{
 "cells": [
  {
   "cell_type": "markdown",
   "id": "abecf750-6070-4da0-948a-df6348d7b3a0",
   "metadata": {},
   "source": [
    "## Imports"
   ]
  },
  {
   "cell_type": "code",
   "execution_count": null,
   "id": "53f4130f-1aa2-463f-90f3-98d9e4613634",
   "metadata": {},
   "outputs": [],
   "source": [
    "%matplotlib inline\n",
    "%load_ext autoreload\n",
    "%autoreload 2\n",
    "%load_ext tensorboard"
   ]
  },
  {
   "cell_type": "code",
   "execution_count": null,
   "id": "7f313b05-2a9d-4193-822b-705d3cd36df8",
   "metadata": {},
   "outputs": [],
   "source": [
    "from create_models.inception_tuner import Classifier_INCEPTION"
   ]
  },
  {
   "cell_type": "code",
   "execution_count": null,
   "id": "3f0fee65-f162-4fa2-9150-5fb11c33dacb",
   "metadata": {},
   "outputs": [],
   "source": [
    "# load utility\n",
    "from utils.preprocess_data import load_armans_dataset, load_timeseries_dataset\n",
    "from utils.preprocess_data import to_onehot, Standardize, Minmax, scale_x, adjust_dimensions\n",
    "from utils.visualize import plot_loss_acc, plot_confusion_matrix, plot_lr, plot_lr_schedule\n",
    "from utils.save import save_model_to_lite"
   ]
  },
  {
   "cell_type": "code",
   "execution_count": null,
   "id": "410915d2-ac49-47a6-95f0-73582428f087",
   "metadata": {},
   "outputs": [],
   "source": [
    "from datetime import datetime\n",
    "import math\n",
    "import os\n",
    "os.environ[\"TF_CPP_MIN_LOG_LEVEL\"] = \"3\"\n",
    "from os.path import join\n",
    "import numpy as np\n",
    "import pandas as pd\n",
    "\n",
    "import matplotlib.pyplot as plt\n",
    "import seaborn as sns"
   ]
  },
  {
   "cell_type": "code",
   "execution_count": null,
   "id": "56eecff7-d850-471e-8db0-ec9e28b3f863",
   "metadata": {},
   "outputs": [],
   "source": [
    "import tensorflow as tf\n",
    "from keras.models import load_model\n",
    "from tensorflow.keras.utils import plot_model\n",
    "from tensorflow.keras.callbacks import TensorBoard\n",
    "import keras_tuner\n",
    "\n",
    "import tensorflow_models as tfm\n",
    "import tensorflow_addons as tfa"
   ]
  },
  {
   "cell_type": "code",
   "execution_count": null,
   "id": "9c60cf25-000e-4285-8878-bac100569e8d",
   "metadata": {},
   "outputs": [],
   "source": [
    "from sklearn.preprocessing import LabelEncoder"
   ]
  },
  {
   "cell_type": "code",
   "execution_count": null,
   "id": "751ee46f-376b-4e7a-a697-223b65893c29",
   "metadata": {},
   "outputs": [],
   "source": [
    "%config Completer.use_jedi = True"
   ]
  },
  {
   "cell_type": "markdown",
   "id": "86876dda-5167-493e-b2e7-b174c7997546",
   "metadata": {},
   "source": [
    "## Config - Change params here"
   ]
  },
  {
   "cell_type": "code",
   "execution_count": null,
   "id": "e22946f0-ec37-4e0a-b294-df9fdb655eb7",
   "metadata": {},
   "outputs": [],
   "source": [
    "timestamp_begin = '19.10.22 00:00'"
   ]
  },
  {
   "cell_type": "code",
   "execution_count": null,
   "id": "f7e09da4-78cc-4cb8-a254-be8263a7de38",
   "metadata": {},
   "outputs": [],
   "source": [
    "# set True to only regard sitting, standing, walking, cycling as activites\n",
    "common_only = True"
   ]
  },
  {
   "cell_type": "code",
   "execution_count": null,
   "id": "3aab8340-e91d-4b5d-9def-a547c50cb0cc",
   "metadata": {},
   "outputs": [],
   "source": [
    "frequency = 5 # choose between 5 Hz and 15 Hz measurements\n",
    "frame_seconds = 2 # how many seconds should one data point have? 5 Hz * 2 seconds = 10 data points per window frame\n",
    "\n",
    "cut_sensors_bool = True\n",
    "n_keep = 12 if cut_sensors_bool else None  # if < 8 and 'pca = TRUE'"
   ]
  },
  {
   "cell_type": "code",
   "execution_count": null,
   "id": "65bf8873-b7e6-45dd-923f-c9310ef71a1a",
   "metadata": {},
   "outputs": [],
   "source": [
    "pca = True\n",
    "n_components = 10"
   ]
  },
  {
   "cell_type": "code",
   "execution_count": null,
   "id": "6006d2b3-696d-4cd5-b320-73f6580adbb0",
   "metadata": {},
   "outputs": [],
   "source": [
    "scaler = None\n",
    "# !!!!!!!!!!!!!!!!!!!!!!!! if scaled, the model cant be used on variable sensor length anymore which breaks it\n",
    "# solution could be to get one mean and std over all sensor and then use these 2 values in the app + the mean,std for the acceleration\n",
    "scaler = Standardize()\n",
    "# scaler = Minmax() # garbage"
   ]
  },
  {
   "cell_type": "code",
   "execution_count": null,
   "id": "e76c352f-687f-4ce5-9e2e-4872ffc4afb8",
   "metadata": {},
   "outputs": [],
   "source": [
    "tune_model = True  # if True, keras_tuner searches for the best model, else the default values are used\n",
    "max_trials = 1"
   ]
  },
  {
   "cell_type": "code",
   "execution_count": null,
   "id": "a0f45702-5c73-433a-840c-be83ebe331db",
   "metadata": {},
   "outputs": [],
   "source": [
    "batch_size = 1048\n",
    "epochs = 3\n",
    "verbose = 0"
   ]
  },
  {
   "cell_type": "code",
   "execution_count": null,
   "id": "db27bb29-d2f9-45a5-9ef2-2637c938f2b5",
   "metadata": {},
   "outputs": [],
   "source": [
    "# retrain = True"
   ]
  },
  {
   "cell_type": "code",
   "execution_count": null,
   "id": "0968f8f3-8d39-4fc6-a951-793703704d1b",
   "metadata": {},
   "outputs": [],
   "source": [
    "pre_plots = True"
   ]
  },
  {
   "cell_type": "code",
   "execution_count": null,
   "id": "ad82bbf8-356b-4acb-bef7-7937ee2147e0",
   "metadata": {},
   "outputs": [],
   "source": [
    "# tb_logs = True  # if True, watch out for a ton of logs. 100 trials ~1-2 GB Data\n",
    "tb_logs = False"
   ]
  },
  {
   "cell_type": "markdown",
   "id": "bf73b5c6-aa9f-4172-a396-7137b2e961a3",
   "metadata": {},
   "source": [
    "## Load and preprocess data"
   ]
  },
  {
   "cell_type": "code",
   "execution_count": null,
   "id": "45428ba6-4cd7-4b16-a131-50c1d5f678ba",
   "metadata": {},
   "outputs": [
    {
     "name": "stdout",
     "output_type": "stream",
     "text": [
      "249 Files read in total (ignoring different frequencies)\n"
     ]
    }
   ],
   "source": [
    "# x_train, y_train, x_val, y_val = load_armans_dataset(n_keep=n_keep, trimmed_act=True, verbose=False)\n",
    "x_train, y_train, x_val, y_val = load_timeseries_dataset(frequency=frequency,\n",
    "                                                         frame_seconds=frame_seconds,\n",
    "                                                         n_keep=n_keep,\n",
    "                                                         timestamp_begin=timestamp_begin,\n",
    "                                                         common_only=common_only)"
   ]
  },
  {
   "cell_type": "code",
   "execution_count": null,
   "id": "37436f91-67ab-4a4a-b40d-e4bd4540079e",
   "metadata": {},
   "outputs": [
    {
     "data": {
      "text/plain": [
       "((38204, 10, 30), (38204,), (38081, 10, 30), (38081,))"
      ]
     },
     "execution_count": null,
     "metadata": {},
     "output_type": "execute_result"
    }
   ],
   "source": [
    "x_train.shape, y_train.shape, x_val.shape, y_val.shape"
   ]
  },
  {
   "cell_type": "code",
   "execution_count": null,
   "id": "d277844d-eb35-4b68-a84a-85e442566e24",
   "metadata": {},
   "outputs": [],
   "source": [
    "# helper function to create heatmap labels\n",
    "x_cols = [*(map(lambda x: f\"l{x}\"  , range(1,13))), *(map(lambda x: f\"r{x}\"  , range(1,13))), \n",
    "          \"x\", \"y\", \"z\", 'gyr_x', 'gyr_y', 'gyr_z']"
   ]
  },
  {
   "cell_type": "code",
   "execution_count": null,
   "id": "66c5980e-ddc6-432c-ba0e-4f329f068459",
   "metadata": {},
   "outputs": [],
   "source": [
    "x_train_df = pd.DataFrame(x_train.reshape(x_train.shape[0] * x_train.shape[1], x_train.shape[2]), columns=x_cols)\n",
    "# x_train_df"
   ]
  },
  {
   "cell_type": "code",
   "execution_count": null,
   "id": "aba84130-bf12-40ab-9e64-7d5257deb278",
   "metadata": {},
   "outputs": [],
   "source": [
    "# if pre_plots:\n",
    "#     f,ax = plt.subplots(figsize=(18, 18))\n",
    "#     sns.heatmap(x_train_df.corr(), annot=True, linewidths=.5, fmt= '.1f',ax=ax);\n",
    "\n",
    "# takeaways\n",
    "#  sensors left 1-12 correlate with sensors right 1-12 (0.7 - 0.8)\n",
    "# sensors right next to each other (0.4 - 0.9)\n",
    "# some sensor have negative correlation r5 - l7; r9 - l11; l8 - r5\n",
    "# -> might be because of the flexion of the back (s-form) in the middle"
   ]
  },
  {
   "cell_type": "code",
   "execution_count": null,
   "id": "cd712d6b-5e8a-42eb-acbb-815d0e84cf5b",
   "metadata": {},
   "outputs": [
    {
     "data": {
      "image/png": "[encoded data removed]",
      "text/plain": [
       "<Figure size 1000x500 with 1 Axes>"
      ]
     },
     "metadata": {},
     "output_type": "display_data"
    }
   ],
   "source": [
    "if pre_plots:\n",
    "    plt.figure(figsize=(10,5))\n",
    "    plt.hist(y_train, orientation=\"horizontal\", bins=\"scott\")\n",
    "    plt.title(\"Training Set\");"
   ]
  },
  {
   "cell_type": "code",
   "execution_count": null,
   "id": "2cfd9738-f6e3-4906-adb6-7ea55d02d8bb",
   "metadata": {},
   "outputs": [
    {
     "data": {
      "image/png": "[encoded data removed]",
      "text/plain": [
       "<Figure size 1000x500 with 1 Axes>"
      ]
     },
     "metadata": {},
     "output_type": "display_data"
    }
   ],
   "source": [
    "if pre_plots:\n",
    "    plt.figure(figsize=(10,5))\n",
    "    plt.hist(y_val, orientation=\"horizontal\", bins=\"scott\")\n",
    "    plt.title(\"Validation Set\");"
   ]
  },
  {
   "cell_type": "code",
   "execution_count": null,
   "id": "c2d4acfc-9477-47b3-81f8-425dfced6ac4",
   "metadata": {},
   "outputs": [],
   "source": [
    "lbl_enc = LabelEncoder()\n",
    "y_enc = lbl_enc.fit_transform(np.concatenate((y_train, y_val)))\n",
    "y_train = y_enc[:len(y_train)]\n",
    "y_val = y_enc[len(y_train):]\n",
    "\n",
    "y_train = to_onehot(y_train)\n",
    "y_val = to_onehot(y_val)"
   ]
  },
  {
   "cell_type": "code",
   "execution_count": null,
   "id": "01fcd9f2-8cf8-4f84-851d-5724ab133112",
   "metadata": {},
   "outputs": [
    {
     "data": {
      "text/plain": [
       "(38204, 4)"
      ]
     },
     "execution_count": null,
     "metadata": {},
     "output_type": "execute_result"
    }
   ],
   "source": [
    "y_train.shape"
   ]
  },
  {
   "cell_type": "code",
   "execution_count": null,
   "id": "d5efaef2-fd75-43b6-aa30-423aa35e94e0",
   "metadata": {},
   "outputs": [
    {
     "data": {
      "text/plain": [
       "(38081, 4)"
      ]
     },
     "execution_count": null,
     "metadata": {},
     "output_type": "execute_result"
    }
   ],
   "source": [
    "y_val.shape"
   ]
  },
  {
   "cell_type": "code",
   "execution_count": null,
   "id": "5bfa88b7-482d-40e1-b306-e11ed600af20",
   "metadata": {},
   "outputs": [
    {
     "name": "stdout",
     "output_type": "stream",
     "text": [
      "---\n",
      "scaled with Standardize!\n",
      "---\n"
     ]
    }
   ],
   "source": [
    "if scaler:\n",
    "    x_train = scaler.fit_transform(x_train)\n",
    "    x_val = scaler.transform(x_val)\n",
    "    print(f\"---\\nscaled with {scaler.__class__.__name__}!\\n---\")"
   ]
  },
  {
   "cell_type": "code",
   "execution_count": null,
   "id": "4f777e11-f97d-4a6f-a7a3-1eaf502a4da8",
   "metadata": {},
   "outputs": [
    {
     "name": "stdout",
     "output_type": "stream",
     "text": [
      "---\n",
      "Doing PCA!\n",
      "---\n",
      "[0.75217983 0.04661026 0.0445406  0.03838658 0.03276576 0.03060769\n",
      " 0.02952833 0.02162383 0.0017769  0.00086392]\n",
      "After PCA x shape: (10, 10)\n"
     ]
    }
   ],
   "source": [
    "if pca:\n",
    "    # assert (n_keep * 2 >= n_components) if cut_sensors_bool else True, f\"Increase n_keep={n_keep} to atleast greater than half the size of n_components={n_components}\"\n",
    "    print(\"---\\nDoing PCA!\\n---\")\n",
    "    x_train, x_val, pca_components = adjust_dimensions(x_train, x_val, n_components, return_components=True)\n",
    "    print(\"After PCA x shape:\", x_train.shape[1:])\n",
    "else:\n",
    "    pca_components = None\n",
    "    print(\"NO PCA DONE!\")"
   ]
  },
  {
   "cell_type": "code",
   "execution_count": null,
   "id": "caa2199a-86aa-49ad-8cf8-a8ac57ef42df",
   "metadata": {},
   "outputs": [
    {
     "data": {
      "text/plain": [
       "((38204, 10, 10), (38081, 10, 10))"
      ]
     },
     "execution_count": null,
     "metadata": {},
     "output_type": "execute_result"
    }
   ],
   "source": [
    "x_train.shape, x_val.shape"
   ]
  },
  {
   "cell_type": "code",
   "execution_count": null,
   "id": "153199b9-7ee0-409c-b21f-9a55d44109d3",
   "metadata": {},
   "outputs": [
    {
     "data": {
      "text/plain": [
       "array([ 7.00797044e-15,  9.17731671e-16, -7.95203780e-16,  1.62953911e-15,\n",
       "        1.57954595e-15,  3.39477396e-15, -1.21858340e-15, -4.06611075e-15,\n",
       "        2.81092521e-15, -4.21225148e-14])"
      ]
     },
     "execution_count": null,
     "metadata": {},
     "output_type": "execute_result"
    }
   ],
   "source": [
    "x_train.mean((0,1))"
   ]
  },
  {
   "cell_type": "code",
   "execution_count": null,
   "id": "5a5477fa-9720-4f4d-b8b6-57efb6c2e2ec",
   "metadata": {},
   "outputs": [
    {
     "data": {
      "text/plain": [
       "array([-5.76441484e-03,  8.57548959e-03,  8.96497571e-03, -4.04033777e-03,\n",
       "        1.63516211e-03,  3.24814268e-03,  1.84670212e-03,  1.96793107e-03,\n",
       "       -1.53693986e-03,  5.85835265e-05])"
      ]
     },
     "execution_count": null,
     "metadata": {},
     "output_type": "execute_result"
    }
   ],
   "source": [
    "x_val.mean((0,1))"
   ]
  },
  {
   "cell_type": "code",
   "execution_count": null,
   "id": "27651ee2-171a-40cf-b87c-18e92d9248ea",
   "metadata": {},
   "outputs": [
    {
     "data": {
      "text/plain": [
       "array([4.75030472, 1.18250068, 1.15594895, 1.07312506, 0.99144989,\n",
       "       0.95824361, 0.94119603, 0.80542844, 0.23088298, 0.16098946])"
      ]
     },
     "execution_count": null,
     "metadata": {},
     "output_type": "execute_result"
    }
   ],
   "source": [
    "x_train.std((0,1))"
   ]
  },
  {
   "cell_type": "code",
   "execution_count": null,
   "id": "914619c5-b981-4b1e-90df-fa0a76551aa8",
   "metadata": {},
   "outputs": [
    {
     "data": {
      "text/plain": [
       "array([4.70898276, 1.20347451, 1.47095763, 1.08022238, 0.98798666,\n",
       "       0.95377822, 0.94322895, 0.79902667, 0.16803537, 0.16123117])"
      ]
     },
     "execution_count": null,
     "metadata": {},
     "output_type": "execute_result"
    }
   ],
   "source": [
    "x_val.std((0,1))"
   ]
  },
  {
   "cell_type": "markdown",
   "id": "8c576a09-324b-4c67-98ad-621c3ef4b8d9",
   "metadata": {},
   "source": [
    "## Creating Model"
   ]
  },
  {
   "cell_type": "code",
   "execution_count": null,
   "id": "38a9ef12-e16c-4c15-915d-6c8030541fb9",
   "metadata": {},
   "outputs": [],
   "source": [
    "cur_time = datetime.now().strftime(\"%Y-%m-%d_%H:%M:%S\")\n",
    "output_dir = join(\"results\", f\"inception_{cur_time}\", \"\")"
   ]
  },
  {
   "cell_type": "code",
   "execution_count": null,
   "id": "df114da8-f3ac-4174-b832-e0aba08cd197",
   "metadata": {},
   "outputs": [],
   "source": [
    "cbs = []\n",
    "if tb_logs:\n",
    "    tb_cb = TensorBoard(join(output_dir, \"tb_logs\"), write_graph=False)\n",
    "    cbs.append(tb_cb)"
   ]
  },
  {
   "cell_type": "code",
   "execution_count": null,
   "id": "fa7733cd-8433-4761-9928-cf6224e1c570",
   "metadata": {},
   "outputs": [],
   "source": [
    "inception = Classifier_INCEPTION(output_dir, x_train.shape[1:], y_train.shape[-1], callbacks=cbs, max_trials=max_trials,\n",
    "                                 epochs=epochs, batch_size=batch_size, verbose=verbose, lbl_enc=lbl_enc)\n",
    "# inception.model.summary()"
   ]
  },
  {
   "cell_type": "markdown",
   "id": "1419340f-94a1-4afb-abf8-db3b63921f09",
   "metadata": {},
   "source": [
    "## Training Model"
   ]
  },
  {
   "cell_type": "code",
   "execution_count": null,
   "id": "b98fde11-2320-49e4-b642-41a3d5d2720d",
   "metadata": {},
   "outputs": [],
   "source": [
    "# inception.fit(x_train, y_train, x_val, y_val)"
   ]
  },
  {
   "cell_type": "code",
   "execution_count": null,
   "id": "2eb5b9f3-0fcc-47ba-93e3-f70f6c5b1015",
   "metadata": {},
   "outputs": [
    {
     "name": "stdout",
     "output_type": "stream",
     "text": [
      "Trial 1 Complete [00h 01m 11s]\n",
      "val_f1_score: 0.7775852680206299\n",
      "\n",
      "Best val_f1_score So Far: 0.7775852680206299\n",
      "Total elapsed time: 00h 01m 11s\n",
      "INFO:tensorflow:Oracle triggered exit\n"
     ]
    },
    {
     "name": "stderr",
     "output_type": "stream",
     "text": [
      "INFO:tensorflow:Oracle triggered exit\n"
     ]
    },
    {
     "name": "stdout",
     "output_type": "stream",
     "text": [
      "{'depth': 6, 'dropout_1': 0.25, 'dropout_2': 0.5, 'dropout_dense': 0.25, 'learning_rate': 0.00039405845335838835, 'weight_decay': 4.684170745385077e-07}\n"
     ]
    }
   ],
   "source": [
    "if tune_model:\n",
    "    inception.tune_hp(x_train, y_train, x_val, y_val)\n",
    "else:\n",
    "    inception.build_default()"
   ]
  },
  {
   "cell_type": "code",
   "execution_count": null,
   "id": "bdfd79ad-e27d-4106-806e-ae05f194b711",
   "metadata": {},
   "outputs": [
    {
     "name": "stderr",
     "output_type": "stream",
     "text": [
      "WARNING:absl:Found untraced functions such as _jit_compiled_convolution_op, _jit_compiled_convolution_op, _jit_compiled_convolution_op, _jit_compiled_convolution_op, _jit_compiled_convolution_op while saving (showing 5 of 32). These functions will not be directly callable after loading.\n"
     ]
    },
    {
     "name": "stdout",
     "output_type": "stream",
     "text": [
      "INFO:tensorflow:Assets written to: results/inception_2022-12-08_14:43:50/best_model/assets\n"
     ]
    },
    {
     "name": "stderr",
     "output_type": "stream",
     "text": [
      "INFO:tensorflow:Assets written to: results/inception_2022-12-08_14:43:50/best_model/assets\n"
     ]
    },
    {
     "data": {
      "text/html": [
       "<div>\n",
       "<style scoped>\n",
       "    .dataframe tbody tr th:only-of-type {\n",
       "        vertical-align: middle;\n",
       "    }\n",
       "\n",
       "    .dataframe tbody tr th {\n",
       "        vertical-align: top;\n",
       "    }\n",
       "\n",
       "    .dataframe thead th {\n",
       "        text-align: right;\n",
       "    }\n",
       "</style>\n",
       "<table border=\"1\" class=\"dataframe\">\n",
       "  <thead>\n",
       "    <tr style=\"text-align: right;\">\n",
       "      <th></th>\n",
       "      <th>accuracy</th>\n",
       "      <th>f1_score</th>\n",
       "      <th>precision</th>\n",
       "      <th>recall</th>\n",
       "      <th>duration</th>\n",
       "    </tr>\n",
       "  </thead>\n",
       "  <tbody>\n",
       "    <tr>\n",
       "      <th>0</th>\n",
       "      <td>0.89026</td>\n",
       "      <td>0.777585</td>\n",
       "      <td>0.826337</td>\n",
       "      <td>0.756431</td>\n",
       "      <td>71</td>\n",
       "    </tr>\n",
       "  </tbody>\n",
       "</table>\n",
       "</div>"
      ],
      "text/plain": [
       "   accuracy  f1_score  precision    recall  duration\n",
       "0   0.89026  0.777585   0.826337  0.756431        71"
      ]
     },
     "execution_count": null,
     "metadata": {},
     "output_type": "execute_result"
    },
    {
     "data": {
      "image/png": "[encoded data removed]",
      "text/plain": [
       "<Figure size 900x900 with 1 Axes>"
      ]
     },
     "metadata": {},
     "output_type": "display_data"
    }
   ],
   "source": [
    "df_metrics = inception.predict(x_val, y_val)\n",
    "df_metrics"
   ]
  },
  {
   "cell_type": "code",
   "execution_count": null,
   "id": "2ca15df2-b9a5-479b-9809-a16689dd76a3",
   "metadata": {},
   "outputs": [],
   "source": [
    "# rerun training\n",
    "# if retrain & tune_model:\n",
    "#     inception.model = inception.build(inception.best_hps[0])\n",
    "#     df_metrics = inception.fit(x_train, y_train, x_val, y_val)\n",
    "#     print(df_metrics)"
   ]
  },
  {
   "cell_type": "code",
   "execution_count": null,
   "id": "a13d2ac7-736f-429e-a41c-a9ad237ad82b",
   "metadata": {},
   "outputs": [
    {
     "name": "stdout",
     "output_type": "stream",
     "text": [
      "Model + utilities successfully saved!\n"
     ]
    }
   ],
   "source": [
    "save_model_to_lite(join(output_dir, \"best_model\"), x_train.shape, y_train.shape, lbl_enc.classes_, n_keep, pca_components, scaler)"
   ]
  },
  {
   "cell_type": "code",
   "execution_count": null,
   "id": "130b1c06-2174-4180-b8d8-9631eeeebfe7",
   "metadata": {},
   "outputs": [],
   "source": [
    "model_demo = load_model(join(output_dir, \"best_model\"), custom_objects={\"f1_loss\": inception.model.loss})\n",
    "# model_demo.summary()"
   ]
  },
  {
   "cell_type": "code",
   "execution_count": null,
   "id": "a272c62b-a755-4bbb-97f0-6d28af1b22e5",
   "metadata": {},
   "outputs": [],
   "source": [
    "# saves model optimizer config\n",
    "# opt_df = pd.DataFrame.from_dict(model_demo.optimizer.get_config(), orient=\"index\").T\n",
    "# opt_df.to_csv(join(output_dir, \"optimizer.csv\"))\n",
    "# opt_df"
   ]
  },
  {
   "cell_type": "markdown",
   "id": "0690308e-bebd-4b69-8fda-d10d9ce07e1b",
   "metadata": {},
   "source": [
    "## Plot predictions probabilities"
   ]
  },
  {
   "cell_type": "code",
   "execution_count": null,
   "id": "fefaf0fb-dd7f-437e-b2ed-f57c928e2555",
   "metadata": {},
   "outputs": [],
   "source": [
    "# y_pred = tf.keras.activations.sigmoid(model_demo.predict(x_val, verbose=0))\n",
    "y_pred = model_demo.predict(x_val, verbose=0)"
   ]
  },
  {
   "cell_type": "code",
   "execution_count": null,
   "id": "ef8661b9-832a-4a7d-93c6-12dbe566c103",
   "metadata": {},
   "outputs": [],
   "source": [
    "pred_n = y_pred.shape[-1]"
   ]
  },
  {
   "cell_type": "code",
   "execution_count": null,
   "id": "38216b29-f0fc-4eb2-96cd-6336157e4ace",
   "metadata": {},
   "outputs": [],
   "source": [
    "tresh = 0.7"
   ]
  },
  {
   "cell_type": "code",
   "execution_count": null,
   "id": "10228faa-f952-4cd1-82c5-12c50dfb3cdc",
   "metadata": {},
   "outputs": [],
   "source": [
    "idx = 1000"
   ]
  },
  {
   "cell_type": "code",
   "execution_count": null,
   "id": "687ba26c-e44b-4c44-a340-567dbc4a9b95",
   "metadata": {},
   "outputs": [],
   "source": [
    "y_pred_sorted_acts = [lbl_enc.classes_[k] for k in np.argsort(y_pred[idx])]"
   ]
  },
  {
   "cell_type": "code",
   "execution_count": null,
   "id": "9737f9cf-973c-4791-be12-78797d16ce7b",
   "metadata": {},
   "outputs": [
    {
     "data": {
      "text/plain": [
       "'walking'"
      ]
     },
     "execution_count": null,
     "metadata": {},
     "output_type": "execute_result"
    }
   ],
   "source": [
    "true_act = lbl_enc.classes_[np.argmax(y_val[idx])]\n",
    "true_act"
   ]
  },
  {
   "cell_type": "code",
   "execution_count": null,
   "id": "74a2bc2e-4721-4cc0-971c-ce6638c45bfc",
   "metadata": {},
   "outputs": [],
   "source": [
    "for i,act in enumerate(y_pred_sorted_acts):\n",
    "    if act == true_act:\n",
    "        true_idx = i"
   ]
  },
  {
   "cell_type": "code",
   "execution_count": null,
   "id": "be8b7179-b60e-4c10-b5e2-e4611b2107d1",
   "metadata": {},
   "outputs": [
    {
     "data": {
      "image/png": "[encoded data removed]",
      "text/plain": [
       "<Figure size 640x480 with 1 Axes>"
      ]
     },
     "metadata": {},
     "output_type": "display_data"
    }
   ],
   "source": [
    "fig,ax = plt.subplots()\n",
    "plt.barh(range(pred_n), sorted(y_pred[idx]))\n",
    "plt.barh(true_idx, 1.02, 0.2)\n",
    "plt.axvline(tresh, color=\"r\", linestyle=\"--\")\n",
    "plt.axvline(1, color=\"g\")\n",
    "ax.set_yticks(range(pred_n), y_pred_sorted_acts);"
   ]
  },
  {
   "cell_type": "code",
   "execution_count": null,
   "id": "e6715020-7bad-4159-b41b-c949397a2d55",
   "metadata": {},
   "outputs": [
    {
     "name": "stdout",
     "output_type": "stream",
     "text": [
      "You must install pydot (`pip install pydot`) and install graphviz (see instructions at https://graphviz.gitlab.io/download/) for plot_model/model_to_dot to work.\n"
     ]
    }
   ],
   "source": [
    "plot_model(model_demo, join(output_dir, \"model.png\"), dpi=300, show_shapes=True, expand_nested=True)\n",
    "plt.close()"
   ]
  },
  {
   "cell_type": "code",
   "execution_count": null,
   "id": "1c2072b8-1855-496a-aa0f-37df5e11858b",
   "metadata": {},
   "outputs": [],
   "source": [
    "if tb_logs:\n",
    "    tb_dir = join(output_dir, \"tb_logs\")\n",
    "    %tensorboard --logdir $tb_dir"
   ]
  },
  {
   "cell_type": "code",
   "execution_count": null,
   "id": "b21eac27-d1a4-4771-adca-d1e7a6428c5b",
   "metadata": {},
   "outputs": [],
   "source": [
    "# assert 1 == 0"
   ]
  },
  {
   "cell_type": "markdown",
   "id": "f8bcb7f4-af92-4a19-9bc4-361fe5f83af0",
   "metadata": {},
   "source": [
    "does the model work well on new data?\n",
    "1 or 2 very high predictions (1: laying, 2: running)"
   ]
  },
  {
   "cell_type": "code",
   "execution_count": null,
   "id": "f309051b-666a-4e94-b473-165221f9f96e",
   "metadata": {},
   "outputs": [],
   "source": [
    "def cut_sensors(x, n_keep):\n",
    "        \"\"\"ONLY for Armans dataset (NO GYRO DATA)\"\"\"\n",
    "        if n_keep is None:  # do nothing\n",
    "            return x\n",
    "\n",
    "        n_sensors = (x.shape[-1] - 3) // 2\n",
    "        x_left = x[:, :, :n_keep]\n",
    "        x_right = x[:, :, n_sensors:n_sensors + n_keep]\n",
    "        x_acc = x[:, :, -3:]\n",
    "\n",
    "        return np.concatenate((x_left, x_right, x_acc), axis=-1)"
   ]
  },
  {
   "cell_type": "markdown",
   "id": "c7abeb58-fc9b-4ee6-a728-0d76ebd3f87f",
   "metadata": {},
   "source": [
    "# Demo "
   ]
  },
  {
   "cell_type": "code",
   "execution_count": null,
   "id": "347f998e-e7c8-4025-b4f3-be723321e3fc",
   "metadata": {},
   "outputs": [
    {
     "ename": "AssertionError",
     "evalue": "",
     "output_type": "error",
     "traceback": [
      "\u001b[0;31m---------------------------------------------------------------------------\u001b[0m",
      "\u001b[0;31mAssertionError\u001b[0m                            Traceback (most recent call last)",
      "Cell \u001b[0;32mIn [57], line 1\u001b[0m\n\u001b[0;32m----> 1\u001b[0m \u001b[38;5;28;01massert\u001b[39;00m \u001b[38;5;241m1\u001b[39m \u001b[38;5;241m==\u001b[39m \u001b[38;5;241m0\u001b[39m\n",
      "\u001b[0;31mAssertionError\u001b[0m: "
     ]
    }
   ],
   "source": [
    "assert 1 == 0"
   ]
  },
  {
   "cell_type": "code",
   "execution_count": null,
   "id": "70a6c8a4-2167-49e4-a0f6-d9e1fabd7a8b",
   "metadata": {},
   "outputs": [],
   "source": [
    "# df_demo = pd.read_csv(\"1666173916383_Xiaomi_M2007J17G_FT26A_5Hz_walking_input-matrix-test.csv\").iloc[:, :-5]  # no gyro, voltage and timestamp\n",
    "df_demo = pd.read_csv(\"input/1666341685432_samsung_SM-A528B_FT26A_5Hz_other_demo.csv\").iloc[:, :-5]  # no gyro, voltage and timestamp\n",
    "df_demo"
   ]
  },
  {
   "cell_type": "code",
   "execution_count": null,
   "id": "a03a85bf-7f4f-422a-86d1-a8bf70cd6c3e",
   "metadata": {},
   "outputs": [],
   "source": [
    "x_demo = []\n",
    "for i in range(0, df_demo.shape[0] - 10, 5):\n",
    "    x_temp = df_demo.iloc[i : i + 10, :]\n",
    "    x_demo.append(x_temp)\n",
    "x_demo = np.array(x_demo)\n",
    "x_demo.shape"
   ]
  },
  {
   "cell_type": "code",
   "execution_count": null,
   "id": "0d41095a-28b7-41e4-942c-ab4401d6dd3d",
   "metadata": {},
   "outputs": [],
   "source": [
    "x_demo = cut_sensors(x_demo, n_keep)\n",
    "x_demo.shape"
   ]
  },
  {
   "cell_type": "code",
   "execution_count": null,
   "id": "c1c5bccd-c42c-4368-ad5b-c08bda990121",
   "metadata": {},
   "outputs": [],
   "source": [
    "x_demo_strain = x_demo[:,:,:-3]\n",
    "x_demo_acc = x_demo[:,:,-3:]\n",
    "x_demo_strain.shape, x_demo_acc.shape"
   ]
  },
  {
   "cell_type": "code",
   "execution_count": null,
   "id": "d55301eb-770f-4aeb-898b-c17ae9b21302",
   "metadata": {},
   "outputs": [],
   "source": [
    "pca_components.shape"
   ]
  },
  {
   "cell_type": "code",
   "execution_count": null,
   "id": "d372d10b-3a70-4468-ab32-a9f9fd396d3a",
   "metadata": {},
   "outputs": [],
   "source": [
    "x_demo_strain_pca = x_demo_strain @ pca_components[None, :, :]\n",
    "x_demo_strain_pca.shape"
   ]
  },
  {
   "cell_type": "code",
   "execution_count": null,
   "id": "c7dc2e51-4609-4e9b-a068-984058fcd0b1",
   "metadata": {},
   "outputs": [],
   "source": [
    "x_demo_ready = np.concatenate((x_demo_strain_pca, x_demo_acc), axis=-1)\n",
    "x_demo_ready.shape"
   ]
  },
  {
   "cell_type": "code",
   "execution_count": null,
   "id": "503091fc-a83e-412d-9983-d01a5082a33c",
   "metadata": {},
   "outputs": [],
   "source": [
    "if scaler:\n",
    "    x_demo_ready = scaler.transform(x_demo_ready)\n",
    "    x_demo_ready.shape"
   ]
  },
  {
   "cell_type": "code",
   "execution_count": null,
   "id": "ab9091ec-725f-46ad-bd4a-dac22267d042",
   "metadata": {},
   "outputs": [],
   "source": [
    "x_train.mean((0,1))"
   ]
  },
  {
   "cell_type": "code",
   "execution_count": null,
   "id": "72f158c0-13cf-40c0-a42c-4bafb37f041b",
   "metadata": {},
   "outputs": [],
   "source": [
    "x_train.std((0,1))"
   ]
  },
  {
   "cell_type": "code",
   "execution_count": null,
   "id": "376d1e27-f40b-4846-af3c-8d0254c0df4e",
   "metadata": {},
   "outputs": [],
   "source": [
    "x_val.mean((0,1))"
   ]
  },
  {
   "cell_type": "code",
   "execution_count": null,
   "id": "47664cec-07d1-4bf3-ab58-d51ecd157a8a",
   "metadata": {},
   "outputs": [],
   "source": [
    "x_val.std((0,1))"
   ]
  },
  {
   "cell_type": "code",
   "execution_count": null,
   "id": "9ca926f3-b981-475c-9b1f-19e18b3216a0",
   "metadata": {},
   "outputs": [],
   "source": [
    "x_demo_ready.mean((0,1))"
   ]
  },
  {
   "cell_type": "code",
   "execution_count": null,
   "id": "2929ff8b-2ac9-41f8-a237-140e3cf4dd26",
   "metadata": {},
   "outputs": [],
   "source": [
    "x_demo_ready.std((0,1))"
   ]
  },
  {
   "cell_type": "code",
   "execution_count": null,
   "id": "deb08947-755e-4916-be48-6a192f3f587f",
   "metadata": {},
   "outputs": [],
   "source": [
    "model_preds = model_demo.predict(x_demo_ready)\n",
    "model_preds[:10]"
   ]
  },
  {
   "cell_type": "code",
   "execution_count": null,
   "id": "6aaaa0eb-77ba-4a8d-932e-c483e0e0d858",
   "metadata": {},
   "outputs": [],
   "source": [
    "np.argmax(model_preds, axis=-1)"
   ]
  },
  {
   "cell_type": "code",
   "execution_count": null,
   "id": "3985d19b-f423-4666-aa09-b90a9499efda",
   "metadata": {},
   "outputs": [],
   "source": [
    "lbl_enc.inverse_transform(np.argmax(model_preds, axis=-1))"
   ]
  },
  {
   "cell_type": "code",
   "execution_count": null,
   "id": "4b40739a-db32-4c24-a930-be2451ad4e02",
   "metadata": {},
   "outputs": [],
   "source": []
  }
 ],
 "metadata": {
  "kernelspec": {
   "display_name": "Python 3 (ipykernel)",
   "language": "python",
   "name": "python3"
  }
 },
 "nbformat": 4,
 "nbformat_minor": 5
}
